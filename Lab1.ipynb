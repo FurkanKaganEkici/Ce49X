{
 "cells": [
  {
   "cell_type": "code",
   "execution_count": 22,
   "id": "cdfdcc08-9e5d-4dae-97d9-c3d52b312069",
   "metadata": {
    "scrolled": true
   },
   "outputs": [
    {
     "name": "stdout",
     "output_type": "stream",
     "text": [
      "Traffic Data Analysis:\n",
      "Minimum vehicle count: 260\n",
      "Maximum vehicle count: 660\n",
      "Mean vehicle count: 454.52\n"
     ]
    }
   ],
   "source": [
    "# lab1_traffic_analysis.py\n",
    "\n",
    "import pandas as pd\n",
    "\n",
    "def main():\n",
    "    # Load the traffic dataset\n",
    "    try:\n",
    "        df = pd.read_csv('traffic_data.csv')\n",
    "    except FileNotFoundError as e:\n",
    "        print(\"Error: The dataset file was not found. Please ensure 'traffic_data.csv' is located in the /datasets/ folder.\",e)\n",
    "        return\n",
    "\n",
    "    # Compute basic descriptive statistics for 'vehicle_count'\n",
    "    min_value = df['vehicle_count'].min()\n",
    "    max_value = df['vehicle_count'].max()\n",
    "    mean_value = df['vehicle_count'].mean()\n",
    "\n",
    "    # Print the results\n",
    "    print(\"Traffic Data Analysis:\")\n",
    "    print(f\"Minimum vehicle count: {min_value}\")\n",
    "    print(f\"Maximum vehicle count: {max_value}\")\n",
    "    print(f\"Mean vehicle count: {mean_value:.2f}\")\n",
    "\n",
    "if __name__ == '__main__':\n",
    "    main()"
   ]
  },
  {
   "cell_type": "code",
   "execution_count": null,
   "id": "0025b04b-a871-4da6-b702-c1b1d4297b7c",
   "metadata": {},
   "outputs": [],
   "source": []
  }
 ],
 "metadata": {
  "kernelspec": {
   "display_name": "Python (Ce49X)",
   "language": "python",
   "name": "ce49x"
  },
  "language_info": {
   "codemirror_mode": {
    "name": "ipython",
    "version": 3
   },
   "file_extension": ".py",
   "mimetype": "text/x-python",
   "name": "python",
   "nbconvert_exporter": "python",
   "pygments_lexer": "ipython3",
   "version": "3.13.2"
  }
 },
 "nbformat": 4,
 "nbformat_minor": 5
}
